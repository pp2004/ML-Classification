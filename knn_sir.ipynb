{
 "cells": [
  {
   "cell_type": "markdown",
   "id": "074dbb2f-5000-4af3-b4c5-feba5df07bb1",
   "metadata": {},
   "source": [
    "Importing Libraries"
   ]
  },
  {
   "cell_type": "code",
   "execution_count": 1,
   "id": "7c180663-9a6b-4444-8c9e-31cf2f7945ef",
   "metadata": {},
   "outputs": [],
   "source": [
    "# USAGE\n",
    "# python knn.py --dataset ../datasets/animals\n",
    "# import the necessary packages\n",
    "import sys\n",
    "#sys.path.append('/Users/PaarthPrakash/Desktop/Parth')\n",
    "import utilities\n",
    "from sklearn.neighbors import KNeighborsClassifier\n",
    "from sklearn.preprocessing import LabelEncoder\n",
    "from sklearn.model_selection import train_test_split\n",
    "from sklearn.metrics import classification_report\n",
    "#provides a wide range of algorithms and tools for tasks such as classification, regression, clustering, and dimensionality reduction.\n",
    "from utilities.simpledatasetloader import SimpleDatasetLoader\n",
    "from utilities.simplepreprocessor import SimplePreprocessor\n",
    "from imutils import paths\n",
    "# library that provides a set of utility functions for working with images.\n",
    "import argparse"
   ]
  },
  {
   "cell_type": "markdown",
   "id": "c86a1943-2b0f-43ef-a131-cb891261188d",
   "metadata": {},
   "source": [
    "Parsing"
   ]
  },
  {
   "cell_type": "code",
   "execution_count": 5,
   "id": "ceaf77f1-4129-4c1f-8721-2a783108e9ae",
   "metadata": {},
   "outputs": [
    {
     "name": "stderr",
     "output_type": "stream",
     "text": [
      "usage: ipykernel_launcher.py [-h] [-k NEIGHBORS] [-j JOBS]\n",
      "ipykernel_launcher.py: error: unrecognized arguments: -f /Users/PaarthPrakash/Library/Jupyter/runtime/kernel-f0f63ae7-42b2-4052-b4ec-390f5fae8a31.json\n"
     ]
    },
    {
     "ename": "SystemExit",
     "evalue": "2",
     "output_type": "error",
     "traceback": [
      "An exception has occurred, use %tb to see the full traceback.\n",
      "\u001b[0;31mSystemExit\u001b[0m\u001b[0;31m:\u001b[0m 2\n"
     ]
    }
   ],
   "source": [
    "# construct the argument parse and parse the arguments\n",
    "#%%script python\n",
    "#This line creates an instance of the ArgumentParser class, which is used to define and manage command-line arguments for your script.\n",
    "ap = argparse.ArgumentParser()\n",
    "\n",
    "#This line adds a command-line argument option to your script. \n",
    "#It specifies that your script can accept an option -k or --neighbors, followed by an integer value. \n",
    "#The default argument sets the default value to 3 if the option is not provided. \n",
    "ap.add_argument(\"-k\", \"--neighbors\", type=int, default=3,\thelp=\"# of nearest neighbors for classification\")\n",
    "\n",
    "# adds another command-line argument option. \n",
    "# specifies that your script can accept an option -j or --jobs, followed by an integer value. \n",
    "ap.add_argument(\"-j\", \"--jobs\", type=int, default=-1,\thelp=\"# of jobs for k-NN distance (-1 uses all available cores)\")\n",
    "\n",
    "\n",
    "args = vars(ap.parse_args())\n",
    "#%run ipykernel_launcher.py -k 5 -j 4\n"
   ]
  },
  {
   "cell_type": "markdown",
   "id": "b50b5aec-7789-4d35-89dd-7651a2f88133",
   "metadata": {},
   "source": [
    "Reshaping the data"
   ]
  },
  {
   "cell_type": "code",
   "execution_count": null,
   "id": "75bcae55-07e9-429f-9eb2-f43bdb11010a",
   "metadata": {},
   "outputs": [],
   "source": [
    "# grab the list of images that we'll be describing\n",
    "print(\"[INFO] loading images...\")\n",
    "imagePaths = list(paths.list_images(\"animals\"))\n",
    "print(imagePaths)\n",
    "# initialize the image preprocessor, load the dataset from disk,\n",
    "# and reshape the data matrix\n",
    "sp = SimplePreprocessor(32, 32)\n",
    "sdl = SimpleDatasetLoader(preprocessors=[sp])\n",
    "(data, labels) = sdl.load(imagePaths, verbose=500)\n",
    "data = data.reshape((data.shape[0], 3072))\n",
    "\n",
    "# show some information on memory consumption of the images\n",
    "print(\"[INFO] features matrix: {:.1f}MB\".format(\n",
    "\tdata.nbytes / (1024 * 1000.0)))"
   ]
  },
  {
   "cell_type": "markdown",
   "id": "a2248500-32ae-4282-8554-124ab09232bc",
   "metadata": {},
   "source": [
    "Encoding"
   ]
  },
  {
   "cell_type": "code",
   "execution_count": null,
   "id": "ae968791-78c8-4efd-82b6-d313de60b2f1",
   "metadata": {},
   "outputs": [],
   "source": [
    "# encode the labels as integers\n",
    "le = LabelEncoder()\n",
    "labels = le.fit_transform(labels)"
   ]
  },
  {
   "cell_type": "markdown",
   "id": "33d6ca71-202f-4785-8f5b-08338f5a65bc",
   "metadata": {},
   "source": [
    "Partition of training and testing data"
   ]
  },
  {
   "cell_type": "code",
   "execution_count": null,
   "id": "06a5d28c-8eab-4af5-a2d6-adfd441826be",
   "metadata": {},
   "outputs": [],
   "source": [
    "# partition the data into training and testing splits using 75% of\n",
    "# the data for training and the remaiedning 25% for testing\n",
    "(trainX, testX, trainY, testY) = train_test_split(data, labels,\n",
    "\ttest_size=0.25, random_state=42)"
   ]
  },
  {
   "cell_type": "markdown",
   "id": "310322ec-ccbb-4f98-a85a-2d11a11f7e93",
   "metadata": {},
   "source": [
    "Training and evaluating a k-NN classifier"
   ]
  },
  {
   "cell_type": "code",
   "execution_count": null,
   "id": "fae0ed39-a10f-4079-b713-f7076573c85d",
   "metadata": {},
   "outputs": [],
   "source": [
    "# train and evaluate a k-NN classifier on the raw pixel intensities\n",
    "print(\"[INFO] evaluating k-NN classifier...\")\n",
    "model = KNeighborsClassifier(n_neighbors=args[\"neighbors\"],\tn_jobs=args[\"jobs\"])\n",
    "model.fit(trainX, trainY)\n",
    "print(classification_report(testY, model.predict(testX),\n",
    "\ttarget_names=le.classes_))"
   ]
  },
  {
   "cell_type": "code",
   "execution_count": null,
   "id": "f4d41037-6ac8-43f5-98e9-5b0305f47e46",
   "metadata": {},
   "outputs": [],
   "source": []
  },
  {
   "cell_type": "code",
   "execution_count": null,
   "id": "4132f0d1-ff01-44dc-ba33-17052f5d28af",
   "metadata": {},
   "outputs": [],
   "source": []
  },
  {
   "cell_type": "code",
   "execution_count": null,
   "id": "d96e9c53-a35e-40c0-98aa-5223a715a33e",
   "metadata": {},
   "outputs": [],
   "source": []
  }
 ],
 "metadata": {
  "kernelspec": {
   "display_name": "Python 3 (ipykernel)",
   "language": "python",
   "name": "python3"
  },
  "language_info": {
   "codemirror_mode": {
    "name": "ipython",
    "version": 3
   },
   "file_extension": ".py",
   "mimetype": "text/x-python",
   "name": "python",
   "nbconvert_exporter": "python",
   "pygments_lexer": "ipython3",
   "version": "3.11.4"
  }
 },
 "nbformat": 4,
 "nbformat_minor": 5
}
